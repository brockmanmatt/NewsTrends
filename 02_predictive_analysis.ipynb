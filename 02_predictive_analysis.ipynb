{
 "cells": [
  {
   "cell_type": "code",
   "execution_count": null,
   "metadata": {},
   "outputs": [],
   "source": [
    "#instructions for how to build this using nbdev at https://nbdev.fast.ai/"
   ]
  },
  {
   "cell_type": "code",
   "execution_count": null,
   "metadata": {},
   "outputs": [],
   "source": [
    "#default_exp predict"
   ]
  },
  {
   "cell_type": "markdown",
   "metadata": {},
   "source": [
    "# Predict loaded articles\n",
    "\n",
    "> Takes a loader as an argument"
   ]
  },
  {
   "cell_type": "code",
   "execution_count": null,
   "metadata": {},
   "outputs": [],
   "source": [
    "#export\n",
    "from newstrends import loader\n",
    "import pandas as pd\n",
    "from pmdarima import auto_arima\n",
    "import warnings\n",
    "warnings.filterwarnings(\"ignore\")\n"
   ]
  },
  {
   "cell_type": "code",
   "execution_count": null,
   "metadata": {},
   "outputs": [],
   "source": [
    "from statsmodels.tsa.statespace.sarimax import SARIMAX\n",
    "import numpy as np"
   ]
  },
  {
   "cell_type": "code",
   "execution_count": null,
   "metadata": {},
   "outputs": [],
   "source": [
    "#hide\n",
    "from nbdev.showdoc import *"
   ]
  },
  {
   "cell_type": "code",
   "execution_count": null,
   "metadata": {},
   "outputs": [],
   "source": [
    "#export\n",
    "class predicter(loader.article_holder):\n",
    "    \n",
    "    def __init__(self):\n",
    "        super().__init__()\n",
    "\n",
    "        "
   ]
  },
  {
   "cell_type": "code",
   "execution_count": null,
   "metadata": {},
   "outputs": [],
   "source": []
  },
  {
   "cell_type": "code",
   "execution_count": null,
   "metadata": {},
   "outputs": [],
   "source": []
  },
  {
   "cell_type": "code",
   "execution_count": null,
   "metadata": {},
   "outputs": [],
   "source": [
    "#export\n",
    "class predicter(predicter):\n",
    "    def getOneStepForecast(self, steps:int=1, model:str=\"sarimax\"):\n",
    "        print(df.columns)\n",
    "        return -1\n",
    "    \n"
   ]
  },
  {
   "cell_type": "code",
   "execution_count": null,
   "metadata": {},
   "outputs": [],
   "source": []
  },
  {
   "cell_type": "code",
   "execution_count": null,
   "metadata": {},
   "outputs": [],
   "source": [
    "tmp = loader.article_holder()\n",
    "tmp.set_articleDir(path=\"../CoverageTrends\")\n",
    "tmp.load_articles(publications=[\"newyorktimes\", \"washingtonpost\"])\n"
   ]
  },
  {
   "cell_type": "code",
   "execution_count": null,
   "metadata": {},
   "outputs": [],
   "source": []
  },
  {
   "cell_type": "code",
   "execution_count": null,
   "metadata": {},
   "outputs": [],
   "source": [
    "#export\n",
    "class predicter(predicter):\n",
    "    def transformTimeSeries(self, keyword:str=\"\", publishers:list=[], timeStart=-1, timeEnd=-1, aggregate=\"h\"):   \n",
    "        if keyword == \"\":\n",
    "            raise Exception(\"Pass a keyword\")\n",
    "        if type(keyword)!=str:\n",
    "            raise Exception(\"Pass keyword as a string\")\n",
    "\n",
    "        df= self.df.copy()\n",
    "        df = df[df.tokens.apply(lambda x: keyword in x)]\n",
    "                    \n",
    "        df.date = pd.to_datetime(df.date)\n",
    "        df.set_index(\"date\", inplace=True)\n",
    "\n",
    "        newDF = pd.DataFrame()\n",
    "        for src in publishers:\n",
    "            newDF[src] = df[df.source==src].resample(aggregate).count()[\"quickReplace\"]\n",
    "        df=newDF\n",
    "        if len(df) < 1:\n",
    "            raise Exception(\"No data in time series\")\n",
    "        self.timeDF = df.fillna(0)\n",
    "\n",
    "    "
   ]
  },
  {
   "cell_type": "code",
   "execution_count": null,
   "metadata": {},
   "outputs": [],
   "source": [
    "class predicter(predicter):\n",
    "    def test_train_split(self, testSize):\n",
    "        if testSize > 0:\n",
    "            self.train=self.timeDF[:-testSize]\n",
    "            self.test=self.timeDF[-testSize:]\n",
    "        else:\n",
    "            self.train=self.timeDF"
   ]
  },
  {
   "cell_type": "code",
   "execution_count": null,
   "metadata": {},
   "outputs": [],
   "source": [
    "#export\n",
    "class predicter(predicter):\n",
    "    \n",
    "    def simpleSarimaxModel(self, endogenous:str, exogenous=[], timeStart=-1, timeEnd=-1, aggregate=\"h\", m=24, ic:[\"oob\", \"aic\"]=\"oob\"):\n",
    "        \n",
    "        try:\n",
    "            if len(self.train) < 1:\n",
    "                raise Exception(\"\")\n",
    "            \n",
    "        except:\n",
    "            raise Exception(\"No transformed time series; run test_train split\")\n",
    "            \n",
    "        \n",
    "        mDict={\n",
    "            \"D\":7,\n",
    "            \"h\":24,\n",
    "        }\n",
    "        try:\n",
    "            m=mDict[aggregate]\n",
    "        except:\n",
    "            pass\n",
    "        \n",
    "        df = self.timeDF.resample(aggregate).sum()\n",
    "        \n",
    "        endo = df[[endogenous]]\n",
    "\n",
    "        if len(exogenous) > 0:\n",
    "            endo = endo[1:]\n",
    "            exog = df[exogenous].shift()[1:]\n",
    "            model = auto_arima(endo, exogenous=exog, out_of_sample_size=3*m, information_criterion=ic, m=m, stepwise=True, trace=True)\n",
    "            \n",
    "        else:\n",
    "            model = auto_arima(endo, out_of_sample_size=24, information_criterion=ic, m=m, stepwise=True, trace=True)\n",
    "        \n",
    "\n",
    "        return model"
   ]
  },
  {
   "cell_type": "markdown",
   "metadata": {},
   "source": [
    "# what we need to do is make a model for our endogenous and exogenous series on the training set. Then, to keep the trained model results without changing them we fit a new model to the full (or test) data set and then filter it on the original params\n",
    "(see https://www.statsmodels.org/dev/examples/notebooks/generated/statespace_sarimax_stata.html)"
   ]
  },
  {
   "cell_type": "code",
   "execution_count": null,
   "metadata": {},
   "outputs": [],
   "source": [
    "p = predicter()\n",
    "p.load_article_holder(tmp)\n",
    "p.transformTimeSeries(keyword=\"floyd\", publishers=[\"newyorktimes\", \"washingtonpost\"])\n",
    "p.test_train_split(48)"
   ]
  },
  {
   "cell_type": "code",
   "execution_count": null,
   "metadata": {},
   "outputs": [
    {
     "name": "stdout",
     "output_type": "stream",
     "text": [
      "Performing stepwise search to minimize oob\n",
      "Fit ARIMA: (2, 0, 2)x(1, 0, 1, 24) (constant=True); AIC=1021.314, BIC=1057.460, Time=4.430 seconds\n",
      "Fit ARIMA: (0, 0, 0)x(0, 0, 0, 24) (constant=True); AIC=1642.447, BIC=1654.496, Time=0.096 seconds\n",
      "Fit ARIMA: (1, 0, 0)x(1, 0, 0, 24) (constant=True); AIC=1036.365, BIC=1056.446, Time=1.143 seconds\n",
      "Fit ARIMA: (0, 0, 1)x(0, 0, 1, 24) (constant=True); AIC=1326.047, BIC=1346.128, Time=1.190 seconds\n",
      "Fit ARIMA: (0, 0, 0)x(0, 0, 0, 24) (constant=False); AIC=1678.089, BIC=1686.121, Time=0.090 seconds\n",
      "Fit ARIMA: (0, 0, 1)x(0, 0, 0, 24) (constant=True); AIC=1325.061, BIC=1341.126, Time=0.147 seconds\n",
      "Fit ARIMA: (0, 0, 1)x(1, 0, 1, 24) (constant=True); AIC=1327.305, BIC=1351.402, Time=2.104 seconds\n",
      "Fit ARIMA: (0, 0, 1)x(1, 0, 0, 24) (constant=True); AIC=1325.746, BIC=1345.827, Time=1.006 seconds\n",
      "Fit ARIMA: (0, 0, 1)x(2, 0, 1, 24) (constant=True); AIC=1329.140, BIC=1357.254, Time=7.625 seconds\n",
      "Fit ARIMA: (0, 0, 1)x(1, 0, 2, 24) (constant=True); AIC=1329.142, BIC=1357.255, Time=10.952 seconds\n",
      "Fit ARIMA: (0, 0, 1)x(0, 0, 2, 24) (constant=True); AIC=1325.758, BIC=1349.855, Time=5.463 seconds\n",
      "Fit ARIMA: (0, 0, 0)x(0, 0, 2, 24) (constant=True); AIC=1645.975, BIC=1666.055, Time=4.378 seconds\n",
      "Fit ARIMA: (1, 0, 1)x(0, 0, 2, 24) (constant=True); AIC=1019.236, BIC=1047.349, Time=5.699 seconds\n",
      "Fit ARIMA: (0, 0, 2)x(0, 0, 2, 24) (constant=True); AIC=1176.247, BIC=1204.360, Time=7.954 seconds\n",
      "Fit ARIMA: (0, 0, 2)x(0, 0, 1, 24) (constant=True); AIC=1182.298, BIC=1206.395, Time=1.729 seconds\n",
      "Fit ARIMA: (0, 0, 2)x(1, 0, 2, 24) (constant=True); AIC=1180.455, BIC=1212.584, Time=10.452 seconds\n",
      "Fit ARIMA: (0, 0, 2)x(1, 0, 1, 24) (constant=True); AIC=1179.220, BIC=1207.333, Time=2.729 seconds\n",
      "Fit ARIMA: (1, 0, 2)x(0, 0, 2, 24) (constant=True); AIC=1021.588, BIC=1053.717, Time=8.266 seconds\n",
      "Fit ARIMA: (0, 0, 3)x(0, 0, 2, 24) (constant=True); AIC=1130.107, BIC=1162.236, Time=7.101 seconds\n",
      "Fit ARIMA: (1, 0, 3)x(0, 0, 2, 24) (constant=True); AIC=1019.889, BIC=1056.034, Time=8.164 seconds\n",
      "Total fit time: 90.756 seconds\n"
     ]
    }
   ],
   "source": [
    "model = p.simpleSarimaxModel(\"newyorktimes\", exogenous=[\"washingtonpost\"], aggregate=\"h\")"
   ]
  },
  {
   "cell_type": "code",
   "execution_count": null,
   "metadata": {},
   "outputs": [],
   "source": [
    "endogenous=\"newyorktimes\"\n",
    "endo = p.timeDF[[endogenous]][1:]\n",
    "exog = p.timeDF[[x for x in p.timeDF.columns if x != endogenous]].shift()[1:]"
   ]
  },
  {
   "cell_type": "code",
   "execution_count": null,
   "metadata": {},
   "outputs": [],
   "source": [
    "tmp = SARIMAX(endo, exogenous=exog, order = model.order, seasonal_order=model.seasonal_order)"
   ]
  },
  {
   "cell_type": "code",
   "execution_count": null,
   "metadata": {},
   "outputs": [],
   "source": [
    "res = tmp.filter(model.params())"
   ]
  },
  {
   "cell_type": "code",
   "execution_count": null,
   "metadata": {},
   "outputs": [],
   "source": [
    "endo[\"yhat\"] = res.predict(exogenous=exog)"
   ]
  },
  {
   "cell_type": "code",
   "execution_count": null,
   "metadata": {},
   "outputs": [
    {
     "data": {
      "text/plain": [
       "<matplotlib.axes._subplots.AxesSubplot at 0x1e057db90>"
      ]
     },
     "execution_count": null,
     "metadata": {},
     "output_type": "execute_result"
    },
    {
     "data": {
      "image/png": "[encoded data removed]",
      "text/plain": [
       "<Figure size 432x288 with 1 Axes>"
      ]
     },
     "metadata": {
      "needs_background": "light"
     },
     "output_type": "display_data"
    }
   ],
   "source": [
    "endo.plot(style=\".\")"
   ]
  },
  {
   "cell_type": "code",
   "execution_count": null,
   "metadata": {},
   "outputs": [],
   "source": [
    "endo[\"resid\"] = endo[endogenous]-endo.yhat"
   ]
  },
  {
   "cell_type": "code",
   "execution_count": null,
   "metadata": {},
   "outputs": [],
   "source": [
    "endo[\"percent_error\"] = 100*np.abs(endo[\"resid\"]/endo[endogenous])"
   ]
  },
  {
   "cell_type": "code",
   "execution_count": null,
   "metadata": {},
   "outputs": [
    {
     "data": {
      "text/plain": [
       "<matplotlib.axes._subplots.AxesSubplot at 0x12231e610>"
      ]
     },
     "execution_count": null,
     "metadata": {},
     "output_type": "execute_result"
    },
    {
     "data": {
      "image/png": "[encoded data removed]",
      "text/plain": [
       "<Figure size 432x288 with 1 Axes>"
      ]
     },
     "metadata": {
      "needs_background": "light"
     },
     "output_type": "display_data"
    }
   ],
   "source": [
    "endo[\"percent_error\"].plot()"
   ]
  },
  {
   "cell_type": "code",
   "execution_count": null,
   "metadata": {},
   "outputs": [
    {
     "data": {
      "text/plain": [
       "ARIMA(maxiter=50, method='lbfgs', order=(0, 0, 2), out_of_sample_size=72,\n",
       "      scoring='mse', scoring_args=None, seasonal_order=(0, 0, 2, 24),\n",
       "      start_params=None, suppress_warnings=False, trend=None,\n",
       "      with_intercept=True)"
      ]
     },
     "execution_count": null,
     "metadata": {},
     "output_type": "execute_result"
    }
   ],
   "source": [
    "model"
   ]
  },
  {
   "cell_type": "code",
   "execution_count": null,
   "metadata": {},
   "outputs": [],
   "source": [
    "#export\n",
    "class predicter(predicter):\n",
    "    \"generate best model for each series in the loaded time series dataframe\"\n",
    "    def generateMultivarSARIMAXResults(self):\n",
    "        self.multiVarResults = {}\n",
    "        \n",
    "        for publication in self.test.columns:\n",
    "            #hmm, doing for arbetrary numbers, I should be able to assume that pvalues/params of i correspond\n",
    "            self.multiVarResults[publication] = {}\n",
    "            \n",
    "            endogenous = publication\n",
    "            exogenous = [x for x in self.test.columns if x != publication]\n",
    "            \n",
    "            model = self.simpleSarimaxModel(endogenous, exogenous=exogenous, aggregate=\"h\")\n",
    "            \n",
    "            endo = p.timeDF[[endogenous]][1:].copy()\n",
    "            exog = p.timeDF[exogenous].shift()[1:]\n",
    "\n",
    "            if model.with_intercept:\n",
    "                newModel = SARIMAX(endo, exog=exog, order = model.order, seasonal_order=model.seasonal_order, trend='c')\n",
    "            else:\n",
    "                newModel = SARIMAX(endo, exog=exog, order = model.order, seasonal_order=model.seasonal_order)\n",
    "                \n",
    "            newModel = newModel.filter(model.params())\n",
    "            \n",
    "            endo[\"yhat\"] = newModel.predict(exogenous=exog)\n",
    "                        \n",
    "            self.multiVarResults[publication][\"params\"] = newModel.params\n",
    "            self.multiVarResults[publication][\"pvalues\"] = newModel.pvalues\n",
    "            self.multiVarResults[publication][\"results\"] = endo\n",
    "            \n",
    "        \n",
    "            "
   ]
  },
  {
   "cell_type": "code",
   "execution_count": null,
   "metadata": {},
   "outputs": [],
   "source": [
    "tmp = loader.article_holder()\n",
    "tmp.set_articleDir(path=\"../CoverageTrends\")\n",
    "tmp.load_articles(publications=[\"newyorktimes\", \"washingtonpost\"])\n",
    "\n",
    "\n",
    "p = predicter()\n",
    "p.load_article_holder(tmp)\n",
    "p.transformTimeSeries(keyword=\"floyd\", publishers=[\"newyorktimes\", \"washingtonpost\"])\n",
    "p.test_train_split(48)"
   ]
  },
  {
   "cell_type": "code",
   "execution_count": null,
   "metadata": {},
   "outputs": [
    {
     "name": "stdout",
     "output_type": "stream",
     "text": [
      "Performing stepwise search to minimize oob\n",
      "Fit ARIMA: (2, 0, 2)x(1, 0, 1, 24) (constant=True); AIC=1021.314, BIC=1057.460, Time=4.792 seconds\n",
      "Fit ARIMA: (0, 0, 0)x(0, 0, 0, 24) (constant=True); AIC=1642.447, BIC=1654.496, Time=0.102 seconds\n",
      "Fit ARIMA: (1, 0, 0)x(1, 0, 0, 24) (constant=True); AIC=1036.365, BIC=1056.446, Time=1.179 seconds\n",
      "Fit ARIMA: (0, 0, 1)x(0, 0, 1, 24) (constant=True); AIC=1326.047, BIC=1346.128, Time=1.210 seconds\n",
      "Fit ARIMA: (0, 0, 0)x(0, 0, 0, 24) (constant=False); AIC=1678.089, BIC=1686.121, Time=0.094 seconds\n",
      "Fit ARIMA: (0, 0, 1)x(0, 0, 0, 24) (constant=True); AIC=1325.061, BIC=1341.126, Time=0.150 seconds\n",
      "Fit ARIMA: (0, 0, 1)x(1, 0, 1, 24) (constant=True); AIC=1327.305, BIC=1351.402, Time=2.238 seconds\n",
      "Fit ARIMA: (0, 0, 1)x(1, 0, 0, 24) (constant=True); AIC=1325.746, BIC=1345.827, Time=1.065 seconds\n",
      "Fit ARIMA: (0, 0, 1)x(2, 0, 1, 24) (constant=True); AIC=1329.140, BIC=1357.254, Time=7.700 seconds\n",
      "Fit ARIMA: (0, 0, 1)x(1, 0, 2, 24) (constant=True); AIC=1329.142, BIC=1357.255, Time=10.967 seconds\n",
      "Fit ARIMA: (0, 0, 1)x(0, 0, 2, 24) (constant=True); AIC=1325.758, BIC=1349.855, Time=5.681 seconds\n",
      "Fit ARIMA: (0, 0, 0)x(0, 0, 2, 24) (constant=True); AIC=1645.975, BIC=1666.055, Time=4.419 seconds\n",
      "Fit ARIMA: (1, 0, 1)x(0, 0, 2, 24) (constant=True); AIC=1019.236, BIC=1047.349, Time=5.828 seconds\n",
      "Fit ARIMA: (0, 0, 2)x(0, 0, 2, 24) (constant=True); AIC=1176.247, BIC=1204.360, Time=8.116 seconds\n",
      "Fit ARIMA: (0, 0, 2)x(0, 0, 1, 24) (constant=True); AIC=1182.298, BIC=1206.395, Time=1.738 seconds\n",
      "Fit ARIMA: (0, 0, 2)x(1, 0, 2, 24) (constant=True); AIC=1180.455, BIC=1212.584, Time=10.901 seconds\n",
      "Fit ARIMA: (0, 0, 2)x(1, 0, 1, 24) (constant=True); AIC=1179.220, BIC=1207.333, Time=2.771 seconds\n",
      "Fit ARIMA: (1, 0, 2)x(0, 0, 2, 24) (constant=True); AIC=1021.588, BIC=1053.717, Time=8.351 seconds\n",
      "Fit ARIMA: (0, 0, 3)x(0, 0, 2, 24) (constant=True); AIC=1130.107, BIC=1162.236, Time=9.033 seconds\n",
      "Fit ARIMA: (1, 0, 3)x(0, 0, 2, 24) (constant=True); AIC=1019.889, BIC=1056.034, Time=9.892 seconds\n",
      "Total fit time: 96.278 seconds\n",
      "Performing stepwise search to minimize oob\n",
      "Fit ARIMA: (2, 1, 2)x(1, 0, 1, 24) (constant=True); AIC=1540.958, BIC=1577.082, Time=4.066 seconds\n",
      "Fit ARIMA: (0, 1, 0)x(0, 0, 0, 24) (constant=True); AIC=1535.118, BIC=1547.159, Time=0.083 seconds\n",
      "Fit ARIMA: (1, 1, 0)x(1, 0, 0, 24) (constant=True); AIC=1534.013, BIC=1554.081, Time=0.923 seconds\n",
      "Fit ARIMA: (0, 1, 1)x(0, 0, 1, 24) (constant=True); AIC=1533.820, BIC=1553.888, Time=1.090 seconds\n",
      "Fit ARIMA: (0, 1, 0)x(0, 0, 0, 24) (constant=False); AIC=1533.214, BIC=1541.241, Time=0.103 seconds\n",
      "Fit ARIMA: (0, 1, 0)x(1, 0, 0, 24) (constant=True); AIC=1535.888, BIC=1551.943, Time=0.882 seconds\n",
      "Fit ARIMA: (0, 1, 0)x(0, 0, 1, 24) (constant=True); AIC=1536.022, BIC=1552.077, Time=0.998 seconds\n",
      "Fit ARIMA: (0, 1, 0)x(1, 0, 1, 24) (constant=True); AIC=1537.528, BIC=1557.596, Time=1.394 seconds\n",
      "Fit ARIMA: (1, 1, 0)x(0, 0, 0, 24) (constant=True); AIC=1532.962, BIC=1549.017, Time=0.125 seconds\n",
      "Fit ARIMA: (0, 1, 1)x(0, 0, 0, 24) (constant=True); AIC=1532.674, BIC=1548.729, Time=0.138 seconds\n",
      "Fit ARIMA: (1, 1, 1)x(0, 0, 0, 24) (constant=True); AIC=1534.526, BIC=1554.595, Time=0.184 seconds\n",
      "Total fit time: 10.008 seconds\n"
     ]
    }
   ],
   "source": [
    "p.generateMultivarSARIMAXResults()"
   ]
  },
  {
   "cell_type": "code",
   "execution_count": null,
   "metadata": {},
   "outputs": [
    {
     "data": {
      "text/html": [
       "<div>\n",
       "<style scoped>\n",
       "    .dataframe tbody tr th:only-of-type {\n",
       "        vertical-align: middle;\n",
       "    }\n",
       "\n",
       "    .dataframe tbody tr th {\n",
       "        vertical-align: top;\n",
       "    }\n",
       "\n",
       "    .dataframe thead th {\n",
       "        text-align: right;\n",
       "    }\n",
       "</style>\n",
       "<table border=\"1\" class=\"dataframe\">\n",
       "  <thead>\n",
       "    <tr style=\"text-align: right;\">\n",
       "      <th></th>\n",
       "      <th>newyorktimes</th>\n",
       "      <th>washingtonpost</th>\n",
       "    </tr>\n",
       "  </thead>\n",
       "  <tbody>\n",
       "    <tr>\n",
       "      <td>params</td>\n",
       "      <td>intercept         1.269209\n",
       "washingtonpost    0...</td>\n",
       "      <td>newyorktimes    0.172732\n",
       "sigma2          2.462...</td>\n",
       "    </tr>\n",
       "    <tr>\n",
       "      <td>pvalues</td>\n",
       "      <td>intercept          1.080625e-06\n",
       "washingtonpost...</td>\n",
       "      <td>newyorktimes     6.907657e-03\n",
       "sigma2          ...</td>\n",
       "    </tr>\n",
       "    <tr>\n",
       "      <td>results</td>\n",
       "      <td>newyorktimes      yhat\n",
       "da...</td>\n",
       "      <td>washingtonpost       yhat...</td>\n",
       "    </tr>\n",
       "  </tbody>\n",
       "</table>\n",
       "</div>"
      ],
      "text/plain": [
       "                                              newyorktimes  \\\n",
       "params   intercept         1.269209\n",
       "washingtonpost    0...   \n",
       "pvalues  intercept          1.080625e-06\n",
       "washingtonpost...   \n",
       "results                       newyorktimes      yhat\n",
       "da...   \n",
       "\n",
       "                                            washingtonpost  \n",
       "params   newyorktimes    0.172732\n",
       "sigma2          2.462...  \n",
       "pvalues  newyorktimes     6.907657e-03\n",
       "sigma2          ...  \n",
       "results                       washingtonpost       yhat...  "
      ]
     },
     "execution_count": null,
     "metadata": {},
     "output_type": "execute_result"
    }
   ],
   "source": [
    "pd.DataFrame(p.multiVarResults)"
   ]
  },
  {
   "cell_type": "code",
   "execution_count": null,
   "metadata": {},
   "outputs": [],
   "source": []
  }
 ],
 "metadata": {
  "kernelspec": {
   "display_name": "Python 3",
   "language": "python",
   "name": "python3"
  }
 },
 "nbformat": 4,
 "nbformat_minor": 2
}
