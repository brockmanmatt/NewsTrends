{
 "cells": [
  {
   "cell_type": "code",
   "execution_count": null,
   "metadata": {},
   "outputs": [],
   "source": [
    "#instructions for how to build this using nbdev at https://nbdev.fast.ai/"
   ]
  },
  {
   "cell_type": "code",
   "execution_count": null,
   "metadata": {},
   "outputs": [],
   "source": [
    "#default_exp visualize"
   ]
  },
  {
   "cell_type": "markdown",
   "metadata": {},
   "source": [
    "# Predict loaded articles\n",
    "\n",
    "> Takes a loader as an argument"
   ]
  },
  {
   "cell_type": "code",
   "execution_count": null,
   "metadata": {},
   "outputs": [],
   "source": [
    "#export\n",
    "from newstrends import loader, describe\n",
    "import pandas as pd\n",
    "import datetime, os\n",
    "from datetime import timezone\n",
    "import matplotlib.pyplot as plt"
   ]
  },
  {
   "cell_type": "code",
   "execution_count": null,
   "metadata": {},
   "outputs": [],
   "source": [
    "#hide\n",
    "from nbdev.showdoc import *"
   ]
  },
  {
   "cell_type": "code",
   "execution_count": null,
   "metadata": {},
   "outputs": [],
   "source": [
    "#export\n",
    "class visualizer:\n",
    "    \"my visualizer! Don't know what I'm doing with it yet though\"\n",
    "    \n",
    "    def runDefault(self, outdir=\".\"):\n",
    "        \n",
    "        publisherList = [\"newyorktimes\", \"washingtonpost\"]\n",
    "        \n",
    "        describer = describe.describer()\n",
    "        \n",
    "        describer.set_articleDir(path=\"../CoverageTrends\")\n",
    "        describer.load_articles(publications=publisherList, lastN=5)\n",
    "        describer.fitVectorizer(ngram_range=(1,1))\n",
    "        \n",
    "        topN = pd.DataFrame()\n",
    "        \n",
    "        for publisher in publisherList:\n",
    "            topN[publisher] = [x[0] for x in describer.getTopNWords(10, source=[publisher])]\n",
    "            \n",
    "        vcs = topN.melt(var_name='publisher', value_name='words')[\"words\"].value_counts()\n",
    "        myTime = datetime.datetime.now(tz=timezone.utc).strftime('%Y%m%d-%H%M')\n",
    "        myTime = myTime[:-1]\n",
    "        myTime +=\"0\"\n",
    "        plt.close('all') #in case of zombies or something\n",
    "        os.makedirs(\"{}/img\".format(outdir), exist_ok=True)\n",
    "        os.makedirs(\"{}/timeseries\".format(outdir), exist_ok=True)\n",
    "\n",
    "        df = describer.df\n",
    "                \n",
    "        for middleWord in vcs.dropna().index: #k, this is going to be wayyy too many images, but just testing\n",
    "\n",
    "            tmp = df[df[\"tokens\"].apply(lambda x: (middleWord in x))].copy().fillna(0)\n",
    "            tmp.date = pd.to_datetime(tmp.date)\n",
    "            tmp = tmp.groupby([\"source\", \"date\"]).count()[\"quickReplace\"]\n",
    "            try:  #for some reason, sometimes the formatting's getting messed up\n",
    "                tmp.unstack(level=0).fillna(0).to_pickle(\"{}/timeseries/{}.pkl\".format(outdir, middleWord))\n",
    "            except:\n",
    "                pass\n",
    "            ax = tmp.unstack(level=0).fillna(0).plot(title=\"Frontpage mentions of {}\".format(middleWord), figsize=(8,8))\n",
    "            ax.set_ylabel(\"frontpage mentions at time\")\n",
    "            try:\n",
    "                deleteMe = [oldFile for oldFile in os.listdir(\"{}/img\".format(outdir)) if oldFile.endswith(middleWord+\".jpg\")]\n",
    "                for oldFile in deleteMe:\n",
    "                    os.remove(\"{}/img/{}\".format(outdir, oldFile))\n",
    "            except:\n",
    "                pass\n",
    "\n",
    "            ax.figure.savefig(\"{}/img/{}_{}.jpg\".format(outdir, myTime, middleWord))\n",
    "            plt.close('all') #close all figures\n"
   ]
  },
  {
   "cell_type": "code",
   "execution_count": null,
   "metadata": {},
   "outputs": [],
   "source": [
    "test = visualizer()"
   ]
  },
  {
   "cell_type": "code",
   "execution_count": null,
   "metadata": {},
   "outputs": [],
   "source": []
  },
  {
   "cell_type": "code",
   "execution_count": null,
   "metadata": {},
   "outputs": [],
   "source": [
    "test.runDefault()"
   ]
  },
  {
   "cell_type": "code",
   "execution_count": null,
   "metadata": {},
   "outputs": [],
   "source": []
  }
 ],
 "metadata": {
  "kernelspec": {
   "display_name": "Python 3",
   "language": "python",
   "name": "python3"
  }
 },
 "nbformat": 4,
 "nbformat_minor": 2
}
